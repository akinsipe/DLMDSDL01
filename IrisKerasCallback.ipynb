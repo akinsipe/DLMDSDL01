{
 "cells": [
  {
   "cell_type": "markdown",
   "metadata": {},
   "source": [
    "# A Simple Network in Keras with Callbacks\n",
    "\n",
    "TensorFlow provides callbacks that can be used to extend the functionality of the training loop.\n",
    "\n",
    "In this notebook we explore a few examples.\n",
    "\n",
    "We have previously seen how we can store metrics such as the loss function or the accuracy in\n",
    "the history object returned by the ```fit()``` method.\n",
    "TensorFlow provides a much more detailed system for monitoring and analyzing training sessions\n",
    "as well as model performance which is called (TensorBoard)[https://www.tensorflow.org/tensorboard].\n",
    "To be able to use this functionality, the special \"hooks\" or functions have to be added\n",
    "to the training loops that take care of logging the relevant information. This is done as a \"callback\".\n",
    "\n",
    "Another useful callback to add are model checkpoints. Training complex neural networks may take a\n",
    "long time and if for example the computer crashes during training, all training progress is lost.\n",
    "However, we can add another callback to save intermiate trainning progress at regular intervals.\n",
    "Should something happen, we can then resume the training from this point onwards.\n",
    "\n",
    "In this example we use the [Iris Dataset](http://scikit-learn.org/stable/auto_examples/datasets/plot_iris_dataset.html)\n",
    "again with a simple network we have used earlier."
   ]
  },
  {
   "cell_type": "code",
   "execution_count": 7,
   "metadata": {},
   "outputs": [
    {
     "name": "stdout",
     "output_type": "stream",
     "text": [
      "2.1.0\n"
     ]
    }
   ],
   "source": [
    "# import required libraries\n",
    "import numpy as np\n",
    "import pandas as pd\n",
    "import matplotlib.pyplot as plt\n",
    "import datetime as dt\n",
    "import tensorflow as tf\n",
    "from sklearn.datasets import load_iris\n",
    "from sklearn.metrics import confusion_matrix\n",
    "import pydot\n",
    "\n",
    "%pylab inline\n",
    "# large figures\n",
    "rcParams['figure.figsize'] = 8, 6\n",
    "\n",
    "print(tf.__version__)"
   ]
  },
  {
   "cell_type": "code",
   "execution_count": 8,
   "metadata": {},
   "outputs": [],
   "source": [
    "#load the data\n",
    "iris = load_iris()"
   ]
  },
  {
   "cell_type": "code",
   "execution_count": 9,
   "metadata": {},
   "outputs": [
    {
     "name": "stdout",
     "output_type": "stream",
     "text": [
      "Model: \"sequential_1\"\n",
      "_________________________________________________________________\n",
      "Layer (type)                 Output Shape              Param #   \n",
      "=================================================================\n",
      "dense_3 (Dense)              (None, 10)                50        \n",
      "_________________________________________________________________\n",
      "dense_4 (Dense)              (None, 10)                110       \n",
      "_________________________________________________________________\n",
      "dense_5 (Dense)              (None, 3)                 33        \n",
      "=================================================================\n",
      "Total params: 193\n",
      "Trainable params: 193\n",
      "Non-trainable params: 0\n",
      "_________________________________________________________________\n"
     ]
    }
   ],
   "source": [
    "#define the network model\n",
    "n_input = 4\n",
    "n_output = 3\n",
    "model = tf.keras.Sequential()\n",
    "model.add(tf.keras.layers.Dense(10, activation=tf.nn.relu, input_shape=(n_input,)))\n",
    "model.add(tf.keras.layers.Dense(10, activation=tf.nn.relu))\n",
    "model.add(tf.keras.layers.Dense(n_output))\n",
    "model.summary()"
   ]
  },
  {
   "cell_type": "code",
   "execution_count": 10,
   "metadata": {},
   "outputs": [],
   "source": [
    "# setup the model\n",
    "model.compile(\n",
    "    optimizer = tf.keras.optimizers.Adam(learning_rate=0.01),\n",
    "    loss = tf.keras.losses.SparseCategoricalCrossentropy(from_logits=True),\n",
    "    metrics = [tf.keras.metrics.SparseCategoricalAccuracy()]\n",
    ")"
   ]
  },
  {
   "cell_type": "markdown",
   "metadata": {},
   "source": [
    "Now we setup the callbacks.\n",
    "Note that the model checkpoints make the training quite slow as the checkpoints have to be written to disk. Hence we only make a checkpoint every few training iterations (i.e. period or epoch)"
   ]
  },
  {
   "cell_type": "code",
   "execution_count": 11,
   "metadata": {},
   "outputs": [
    {
     "name": "stdout",
     "output_type": "stream",
     "text": [
      "Train on 150 samples\n",
      "Epoch 1/50\n",
      "150/150 [==============================] - 1s 3ms/sample - loss: 1.1109 - sparse_categorical_accuracy: 0.3800\n",
      "Epoch 2/50\n",
      "150/150 [==============================] - 0s 302us/sample - loss: 0.9754 - sparse_categorical_accuracy: 0.3533\n",
      "Epoch 3/50\n",
      "150/150 [==============================] - 0s 295us/sample - loss: 0.8148 - sparse_categorical_accuracy: 0.7200\n",
      "Epoch 4/50\n",
      "150/150 [==============================] - 0s 288us/sample - loss: 0.7024 - sparse_categorical_accuracy: 0.6733\n",
      "Epoch 5/50\n",
      "150/150 [==============================] - 0s 328us/sample - loss: 0.6043 - sparse_categorical_accuracy: 0.7733\n",
      "Epoch 6/50\n",
      "150/150 [==============================] - 0s 303us/sample - loss: 0.5217 - sparse_categorical_accuracy: 0.8867\n",
      "Epoch 7/50\n",
      "150/150 [==============================] - 0s 308us/sample - loss: 0.4542 - sparse_categorical_accuracy: 0.9067\n",
      "Epoch 8/50\n",
      "150/150 [==============================] - 0s 308us/sample - loss: 0.3970 - sparse_categorical_accuracy: 0.9533\n",
      "Epoch 9/50\n",
      "150/150 [==============================] - 0s 524us/sample - loss: 0.3525 - sparse_categorical_accuracy: 0.9800\n",
      "Epoch 10/50\n",
      "150/150 [==============================] - 0s 357us/sample - loss: 0.3181 - sparse_categorical_accuracy: 0.9800\n",
      "Epoch 11/50\n",
      "150/150 [==============================] - 0s 708us/sample - loss: 0.2909 - sparse_categorical_accuracy: 0.9667\n",
      "Epoch 12/50\n",
      "150/150 [==============================] - 0s 475us/sample - loss: 0.2638 - sparse_categorical_accuracy: 0.9733\n",
      "Epoch 13/50\n",
      "150/150 [==============================] - 0s 435us/sample - loss: 0.2396 - sparse_categorical_accuracy: 0.9800\n",
      "Epoch 14/50\n",
      "150/150 [==============================] - 0s 400us/sample - loss: 0.2150 - sparse_categorical_accuracy: 0.9800\n",
      "Epoch 15/50\n",
      "150/150 [==============================] - 0s 474us/sample - loss: 0.1990 - sparse_categorical_accuracy: 0.9467\n",
      "Epoch 16/50\n",
      "150/150 [==============================] - 0s 599us/sample - loss: 0.1847 - sparse_categorical_accuracy: 0.9667\n",
      "Epoch 17/50\n",
      "150/150 [==============================] - 0s 644us/sample - loss: 0.1661 - sparse_categorical_accuracy: 0.9533\n",
      "Epoch 18/50\n",
      "150/150 [==============================] - 0s 567us/sample - loss: 0.1442 - sparse_categorical_accuracy: 0.9800\n",
      "Epoch 19/50\n",
      "150/150 [==============================] - 0s 503us/sample - loss: 0.1469 - sparse_categorical_accuracy: 0.9467\n",
      "Epoch 20/50\n",
      "150/150 [==============================] - 0s 496us/sample - loss: 0.1534 - sparse_categorical_accuracy: 0.9533\n",
      "Epoch 21/50\n",
      "150/150 [==============================] - 0s 448us/sample - loss: 0.1266 - sparse_categorical_accuracy: 0.9600\n",
      "Epoch 22/50\n",
      "150/150 [==============================] - 0s 638us/sample - loss: 0.1112 - sparse_categorical_accuracy: 0.9800\n",
      "Epoch 23/50\n",
      "150/150 [==============================] - 0s 556us/sample - loss: 0.1066 - sparse_categorical_accuracy: 0.9800\n",
      "Epoch 24/50\n",
      "150/150 [==============================] - 0s 555us/sample - loss: 0.1033 - sparse_categorical_accuracy: 0.9800\n",
      "Epoch 25/50\n",
      "150/150 [==============================] - 0s 472us/sample - loss: 0.1076 - sparse_categorical_accuracy: 0.9533\n",
      "Epoch 26/50\n",
      "150/150 [==============================] - 0s 398us/sample - loss: 0.1033 - sparse_categorical_accuracy: 0.9800\n",
      "Epoch 27/50\n",
      "150/150 [==============================] - 0s 455us/sample - loss: 0.0907 - sparse_categorical_accuracy: 0.9800\n",
      "Epoch 28/50\n",
      "150/150 [==============================] - 0s 518us/sample - loss: 0.0887 - sparse_categorical_accuracy: 0.9733\n",
      "Epoch 29/50\n",
      "150/150 [==============================] - 0s 559us/sample - loss: 0.0981 - sparse_categorical_accuracy: 0.9533\n",
      "Epoch 30/50\n",
      "150/150 [==============================] - 0s 497us/sample - loss: 0.0911 - sparse_categorical_accuracy: 0.9733\n",
      "Epoch 31/50\n",
      "150/150 [==============================] - 0s 392us/sample - loss: 0.0823 - sparse_categorical_accuracy: 0.9600\n",
      "Epoch 32/50\n",
      "150/150 [==============================] - 0s 497us/sample - loss: 0.0831 - sparse_categorical_accuracy: 0.9600\n",
      "Epoch 33/50\n",
      "150/150 [==============================] - 0s 445us/sample - loss: 0.0867 - sparse_categorical_accuracy: 0.9733\n",
      "Epoch 34/50\n",
      "150/150 [==============================] - 0s 450us/sample - loss: 0.1068 - sparse_categorical_accuracy: 0.9400\n",
      "Epoch 35/50\n",
      "150/150 [==============================] - 0s 420us/sample - loss: 0.0981 - sparse_categorical_accuracy: 0.9667\n",
      "Epoch 36/50\n",
      "150/150 [==============================] - 0s 449us/sample - loss: 0.0787 - sparse_categorical_accuracy: 0.9733\n",
      "Epoch 37/50\n",
      "150/150 [==============================] - 0s 540us/sample - loss: 0.0841 - sparse_categorical_accuracy: 0.9733\n",
      "Epoch 38/50\n",
      "150/150 [==============================] - 0s 423us/sample - loss: 0.0865 - sparse_categorical_accuracy: 0.9533\n",
      "Epoch 39/50\n",
      "150/150 [==============================] - 0s 333us/sample - loss: 0.0817 - sparse_categorical_accuracy: 0.9733\n",
      "Epoch 40/50\n",
      "150/150 [==============================] - 0s 375us/sample - loss: 0.0877 - sparse_categorical_accuracy: 0.9600\n",
      "Epoch 41/50\n",
      "150/150 [==============================] - 0s 442us/sample - loss: 0.1000 - sparse_categorical_accuracy: 0.9667\n",
      "Epoch 42/50\n",
      "150/150 [==============================] - 0s 451us/sample - loss: 0.1399 - sparse_categorical_accuracy: 0.9267\n",
      "Epoch 43/50\n",
      "150/150 [==============================] - 0s 471us/sample - loss: 0.0967 - sparse_categorical_accuracy: 0.9667\n",
      "Epoch 44/50\n",
      "150/150 [==============================] - 0s 415us/sample - loss: 0.0796 - sparse_categorical_accuracy: 0.9800\n",
      "Epoch 45/50\n",
      "150/150 [==============================] - 0s 477us/sample - loss: 0.0789 - sparse_categorical_accuracy: 0.9600\n",
      "Epoch 46/50\n",
      "150/150 [==============================] - 0s 473us/sample - loss: 0.0775 - sparse_categorical_accuracy: 0.9733\n",
      "Epoch 47/50\n",
      "150/150 [==============================] - 0s 475us/sample - loss: 0.0672 - sparse_categorical_accuracy: 0.9667\n",
      "Epoch 48/50\n",
      "150/150 [==============================] - 0s 399us/sample - loss: 0.0679 - sparse_categorical_accuracy: 0.9800\n",
      "Epoch 49/50\n",
      "150/150 [==============================] - 0s 400us/sample - loss: 0.0753 - sparse_categorical_accuracy: 0.9733\n",
      "Epoch 50/50\n",
      "150/150 [==============================] - 0s 283us/sample - loss: 0.0696 - sparse_categorical_accuracy: 0.9733\n"
     ]
    }
   ],
   "source": [
    "callbacks = [\n",
    "    # write logs to ./logs\n",
    "    tf.keras.callbacks.TensorBoard(log_dir='./logs/{}'.format(dt.datetime.now().strftime(\"%Y-%m-%d-%H-%M-%S\"))),\n",
    "    # write checkpoints to ./checkpoints\n",
    "    tf.keras.callbacks.ModelCheckpoint(filepath='./checkpoints/model{epoch:02d}.h5', save_freq='epoch'),\n",
    "]\n",
    "\n",
    "history = model.fit(\n",
    "        x=iris.data,\n",
    "        y=iris.target,\n",
    "        batch_size=32,\n",
    "        epochs=50,\n",
    "        verbose=1,\n",
    "        callbacks=callbacks\n",
    "    )"
   ]
  },
  {
   "cell_type": "markdown",
   "metadata": {},
   "source": [
    "After training we can confirm that we have the model saved after each complete epoch\n",
    "and we also have the relevant logs for TensorBoard."
   ]
  },
  {
   "cell_type": "code",
   "execution_count": 12,
   "metadata": {},
   "outputs": [
    {
     "name": "stdout",
     "output_type": "stream",
     "text": [
      "checkpoints:\n",
      "model01.h5  model10.h5\tmodel19.h5  model28.h5\tmodel37.h5  model46.h5\n",
      "model02.h5  model11.h5\tmodel20.h5  model29.h5\tmodel38.h5  model47.h5\n",
      "model03.h5  model12.h5\tmodel21.h5  model30.h5\tmodel39.h5  model48.h5\n",
      "model04.h5  model13.h5\tmodel22.h5  model31.h5\tmodel40.h5  model49.h5\n",
      "model05.h5  model14.h5\tmodel23.h5  model32.h5\tmodel41.h5  model50.h5\n",
      "model06.h5  model15.h5\tmodel24.h5  model33.h5\tmodel42.h5\n",
      "model07.h5  model16.h5\tmodel25.h5  model34.h5\tmodel43.h5\n",
      "model08.h5  model17.h5\tmodel26.h5  model35.h5\tmodel44.h5\n",
      "model09.h5  model18.h5\tmodel27.h5  model36.h5\tmodel45.h5\n",
      "\n",
      "logs:\n",
      "2020-05-06-08-06-36  2020-05-06-12-39-28  2020-05-06-12-51-23\n",
      "2020-05-06-08-15-49  2020-05-06-12-50-02\n"
     ]
    }
   ],
   "source": [
    "!ls logs checkpoints\n"
   ]
  },
  {
   "cell_type": "markdown",
   "metadata": {},
   "source": [
    "## Visualization with TensorBoard\n",
    "\n",
    "Before, during or after trainig we can then open TensorBoard. \n",
    "From a commanline shell, we use ```tensorboard --log-dir logs``` where ```logs``` is the directory containing all the log-files we\n",
    "have specified when setting up the TensorBoard callback.\n",
    "\n",
    "We can then open a webbrowser and point it to the location where TensorBoard runs, e.g. ``` http://localhost:6006/```\n",
    "\n",
    "An example is shown below:\n",
    "![TensorBoard Example](TensorBoard_Example_Iris.png)"
   ]
  },
  {
   "cell_type": "markdown",
   "metadata": {},
   "source": [
    "We can select the training runs we want to analyze or monitor live (in case the traning is progressing),\n",
    "hover over the graphs with the mouse and obtain more details at a specific training step."
   ]
  },
  {
   "cell_type": "code",
   "execution_count": null,
   "metadata": {},
   "outputs": [],
   "source": []
  }
 ],
 "metadata": {
  "kernelspec": {
   "display_name": "Python 3",
   "language": "python",
   "name": "python3"
  },
  "language_info": {
   "codemirror_mode": {
    "name": "ipython",
    "version": 3
   },
   "file_extension": ".py",
   "mimetype": "text/x-python",
   "name": "python",
   "nbconvert_exporter": "python",
   "pygments_lexer": "ipython3",
   "version": "3.6.9"
  }
 },
 "nbformat": 4,
 "nbformat_minor": 4
}
