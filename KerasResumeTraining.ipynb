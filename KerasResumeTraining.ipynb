{
 "cells": [
  {
   "cell_type": "markdown",
   "metadata": {},
   "source": [
    "# Resume Training from Checkpoints\n",
    "\n",
    "In many cases, training a deep neural network from a large dataset will take a long time, maybe even several days.\n",
    "\n",
    "In order to avoid that we lose all training progress we may have made should something happen during\n",
    "training (e.g. the computer may crash), we can save checkpoints at regular intervals, e.g. each epoch.\n",
    "\n",
    "In the case that something goes wrong, we can then resume training from such a checkpoint.\n",
    "\n",
    "In this case we use again the small Iris dataset as an example and use a simple network.\n",
    "However, we first train a few iterations and then pretend something has happened - and resume training afterwards\n",
    "from a checkpoint."
   ]
  },
  {
   "cell_type": "code",
   "execution_count": 1,
   "metadata": {},
   "outputs": [
    {
     "name": "stdout",
     "output_type": "stream",
     "text": [
      "Populating the interactive namespace from numpy and matplotlib\n",
      "2.1.0\n"
     ]
    }
   ],
   "source": [
    "# import required libraries\n",
    "import numpy as np\n",
    "import pandas as pd\n",
    "import matplotlib.pyplot as plt\n",
    "import datetime as dt\n",
    "import tensorflow as tf\n",
    "from sklearn.datasets import load_iris\n",
    "from sklearn.metrics import confusion_matrix\n",
    "import pydot\n",
    "\n",
    "%pylab inline\n",
    "# large figures\n",
    "rcParams['figure.figsize'] = 8, 6\n",
    "\n",
    "print(tf.__version__)"
   ]
  },
  {
   "cell_type": "code",
   "execution_count": 2,
   "metadata": {},
   "outputs": [],
   "source": [
    "#load the data\n",
    "iris = load_iris()"
   ]
  },
  {
   "cell_type": "code",
   "execution_count": 3,
   "metadata": {},
   "outputs": [
    {
     "name": "stdout",
     "output_type": "stream",
     "text": [
      "Model: \"sequential\"\n",
      "_________________________________________________________________\n",
      "Layer (type)                 Output Shape              Param #   \n",
      "=================================================================\n",
      "dense (Dense)                (None, 10)                50        \n",
      "_________________________________________________________________\n",
      "dense_1 (Dense)              (None, 10)                110       \n",
      "_________________________________________________________________\n",
      "dense_2 (Dense)              (None, 3)                 33        \n",
      "=================================================================\n",
      "Total params: 193\n",
      "Trainable params: 193\n",
      "Non-trainable params: 0\n",
      "_________________________________________________________________\n"
     ]
    }
   ],
   "source": [
    "#define the network model\n",
    "n_input = 4\n",
    "n_output = 3\n",
    "model = tf.keras.Sequential()\n",
    "model.add(tf.keras.layers.Dense(10, activation=tf.nn.relu, input_shape=(n_input,)))\n",
    "model.add(tf.keras.layers.Dense(10, activation=tf.nn.relu))\n",
    "model.add(tf.keras.layers.Dense(n_output))\n",
    "model.summary()"
   ]
  },
  {
   "cell_type": "markdown",
   "metadata": {},
   "source": [
    "Now we set the model up, define loss function and optimmizers.\n",
    "We also define the callbacks we want to use. \n",
    "\n",
    "In our case, we add the callback that creates checkpoints at the end of each training epoch.\n",
    "Note that we store the full model, not just the weights. Alternatively, we can also just store the \n",
    "weights but then we have to create the exact same model manually if we want to resume training."
   ]
  },
  {
   "cell_type": "code",
   "execution_count": 4,
   "metadata": {},
   "outputs": [],
   "source": [
    "# setup the model\n",
    "model.compile(\n",
    "    optimizer = tf.keras.optimizers.Adam(learning_rate=0.01),\n",
    "    loss = tf.keras.losses.SparseCategoricalCrossentropy(from_logits=True),\n",
    "    metrics = [tf.keras.metrics.SparseCategoricalAccuracy()]\n",
    ")\n",
    "\n",
    "callbacks = [\n",
    "    # write logs to ./logs\n",
    "    tf.keras.callbacks.TensorBoard(log_dir='./logs/{}'.format(dt.datetime.now().strftime(\"%Y-%m-%d-%H-%M-%S\"))),\n",
    "    # write checkpoints to ./checkpoints. \n",
    "    tf.keras.callbacks.ModelCheckpoint(filepath='./checkpoints/model{epoch:02d}.h5', save_weights_only=False, save_freq='epoch'),\n",
    "]\n",
    "\n",
    "history = model.fit(\n",
    "        x=iris.data,\n",
    "        y=iris.target,\n",
    "        batch_size=32,\n",
    "        epochs=5,\n",
    "        verbose=0,\n",
    "        callbacks=callbacks\n",
    "    )"
   ]
  },
  {
   "cell_type": "code",
   "execution_count": 23,
   "metadata": {},
   "outputs": [
    {
     "data": {
      "image/png": "[encoded data removed]",
      "text/plain": [
       "<Figure size 576x432 with 2 Axes>"
      ]
     },
     "metadata": {
      "needs_background": "light"
     },
     "output_type": "display_data"
    }
   ],
   "source": [
    "history_dict = history.history\n",
    "history_dict.keys()\n",
    "loss_values = history_dict['loss']\n",
    "acc_values = history_dict['sparse_categorical_accuracy']\n",
    "epochs = range(1, len(loss_values) + 1)\n",
    "\n",
    "fig, axes = plt.subplots(2, sharex=True)\n",
    "axes[0].set_ylabel(\"Loss\", fontsize=14)\n",
    "axes[0].plot(loss_values)\n",
    "axes[0].set_ylim(0.0,1.2)\n",
    "axes[1].set_ylabel(\"Accuracy\", fontsize=14)\n",
    "axes[1].set_xlabel(\"Iteration\", fontsize=14)\n",
    "axes[1].set_ylim(0.3,1.0)\n",
    "axes[1].plot(acc_values)\n",
    "plt.show()"
   ]
  },
  {
   "cell_type": "markdown",
   "metadata": {},
   "source": [
    "We now pretend the computer has crashed after just 5 iterations.\n",
    "Let's check that the checkpoints are there.\n",
    "(Note that since we may have run the examples a few times, the old files are there too)"
   ]
  },
  {
   "cell_type": "code",
   "execution_count": 6,
   "metadata": {},
   "outputs": [
    {
     "name": "stdout",
     "output_type": "stream",
     "text": [
      "total 1800\n",
      "-rwxrwxrwx 1 kerzel kerzel 34592 May  6 14:37 model05.h5\n",
      "-rwxrwxrwx 1 kerzel kerzel 34592 May  6 14:37 model04.h5\n",
      "-rwxrwxrwx 1 kerzel kerzel 34592 May  6 14:37 model03.h5\n",
      "-rwxrwxrwx 1 kerzel kerzel 34592 May  6 14:37 model02.h5\n",
      "-rwxrwxrwx 1 kerzel kerzel 34592 May  6 14:37 model01.h5\n",
      "drwxrwxrwx 1 kerzel kerzel  4096 May  6 14:36 ..\n",
      "-rwxrwxrwx 1 kerzel kerzel 34592 May  6 12:51 model50.h5\n",
      "-rwxrwxrwx 1 kerzel kerzel 34592 May  6 12:51 model49.h5\n",
      "-rwxrwxrwx 1 kerzel kerzel 34592 May  6 12:51 model48.h5\n",
      "-rwxrwxrwx 1 kerzel kerzel 34592 May  6 12:51 model47.h5\n",
      "-rwxrwxrwx 1 kerzel kerzel 34592 May  6 12:51 model46.h5\n",
      "-rwxrwxrwx 1 kerzel kerzel 34592 May  6 12:51 model45.h5\n",
      "-rwxrwxrwx 1 kerzel kerzel 34592 May  6 12:51 model44.h5\n",
      "-rwxrwxrwx 1 kerzel kerzel 34592 May  6 12:51 model43.h5\n",
      "-rwxrwxrwx 1 kerzel kerzel 34592 May  6 12:51 model42.h5\n",
      "-rwxrwxrwx 1 kerzel kerzel 34592 May  6 12:51 model41.h5\n",
      "-rwxrwxrwx 1 kerzel kerzel 34592 May  6 12:51 model40.h5\n",
      "-rwxrwxrwx 1 kerzel kerzel 34592 May  6 12:51 model39.h5\n",
      "-rwxrwxrwx 1 kerzel kerzel 34592 May  6 12:51 model38.h5\n",
      "-rwxrwxrwx 1 kerzel kerzel 34592 May  6 12:51 model37.h5\n",
      "-rwxrwxrwx 1 kerzel kerzel 34592 May  6 12:51 model36.h5\n",
      "-rwxrwxrwx 1 kerzel kerzel 34592 May  6 12:51 model35.h5\n",
      "-rwxrwxrwx 1 kerzel kerzel 34592 May  6 12:51 model34.h5\n",
      "-rwxrwxrwx 1 kerzel kerzel 34592 May  6 12:51 model33.h5\n",
      "-rwxrwxrwx 1 kerzel kerzel 34592 May  6 12:51 model32.h5\n",
      "-rwxrwxrwx 1 kerzel kerzel 34592 May  6 12:51 model31.h5\n",
      "-rwxrwxrwx 1 kerzel kerzel 34592 May  6 12:51 model30.h5\n",
      "-rwxrwxrwx 1 kerzel kerzel 34592 May  6 12:51 model29.h5\n",
      "-rwxrwxrwx 1 kerzel kerzel 34592 May  6 12:51 model28.h5\n",
      "-rwxrwxrwx 1 kerzel kerzel 34592 May  6 12:51 model27.h5\n",
      "-rwxrwxrwx 1 kerzel kerzel 34592 May  6 12:51 model26.h5\n",
      "-rwxrwxrwx 1 kerzel kerzel 34592 May  6 12:51 model25.h5\n",
      "-rwxrwxrwx 1 kerzel kerzel 34592 May  6 12:51 model24.h5\n",
      "-rwxrwxrwx 1 kerzel kerzel 34592 May  6 12:51 model23.h5\n",
      "-rwxrwxrwx 1 kerzel kerzel 34592 May  6 12:51 model22.h5\n",
      "-rwxrwxrwx 1 kerzel kerzel 34592 May  6 12:51 model21.h5\n",
      "-rwxrwxrwx 1 kerzel kerzel 34592 May  6 12:51 model20.h5\n",
      "-rwxrwxrwx 1 kerzel kerzel 34592 May  6 12:51 model19.h5\n",
      "-rwxrwxrwx 1 kerzel kerzel 34592 May  6 12:51 model18.h5\n",
      "-rwxrwxrwx 1 kerzel kerzel 34592 May  6 12:51 model17.h5\n",
      "-rwxrwxrwx 1 kerzel kerzel 34592 May  6 12:51 model16.h5\n",
      "-rwxrwxrwx 1 kerzel kerzel 34592 May  6 12:51 model15.h5\n",
      "-rwxrwxrwx 1 kerzel kerzel 34592 May  6 12:51 model14.h5\n",
      "-rwxrwxrwx 1 kerzel kerzel 34592 May  6 12:51 model13.h5\n",
      "-rwxrwxrwx 1 kerzel kerzel 34592 May  6 12:51 model12.h5\n",
      "-rwxrwxrwx 1 kerzel kerzel 34592 May  6 12:51 model11.h5\n",
      "-rwxrwxrwx 1 kerzel kerzel 34592 May  6 12:51 model10.h5\n",
      "-rwxrwxrwx 1 kerzel kerzel 34592 May  6 12:51 model09.h5\n",
      "-rwxrwxrwx 1 kerzel kerzel 34592 May  6 12:51 model08.h5\n",
      "-rwxrwxrwx 1 kerzel kerzel 34592 May  6 12:51 model07.h5\n",
      "-rwxrwxrwx 1 kerzel kerzel 34592 May  6 12:51 model06.h5\n",
      "drwxrwxrwx 1 kerzel kerzel  4096 May  6 08:06 .\n"
     ]
    }
   ],
   "source": [
    "!ls -lat checkpoints"
   ]
  },
  {
   "cell_type": "markdown",
   "metadata": {},
   "source": [
    "We now resume training and restore from a checkpoint."
   ]
  },
  {
   "cell_type": "code",
   "execution_count": 7,
   "metadata": {},
   "outputs": [
    {
     "name": "stdout",
     "output_type": "stream",
     "text": [
      "Model: \"sequential\"\n",
      "_________________________________________________________________\n",
      "Layer (type)                 Output Shape              Param #   \n",
      "=================================================================\n",
      "dense (Dense)                (None, 10)                50        \n",
      "_________________________________________________________________\n",
      "dense_1 (Dense)              (None, 10)                110       \n",
      "_________________________________________________________________\n",
      "dense_2 (Dense)              (None, 3)                 33        \n",
      "=================================================================\n",
      "Total params: 193\n",
      "Trainable params: 193\n",
      "Non-trainable params: 0\n",
      "_________________________________________________________________\n"
     ]
    }
   ],
   "source": [
    "# use the latest checkpoint and check it's the same as the model we have created originally.\n",
    "ckpt_model = tf.keras.models.load_model('./checkpoints/model05.h5')\n",
    "ckpt_model.summary()"
   ]
  },
  {
   "cell_type": "markdown",
   "metadata": {},
   "source": [
    "We can then resume training.\n",
    "Note that we do have to load the relevant data, etc.\n",
    "In this example, we continue to use the same callbacks defined above.\n",
    "\n",
    "We store the training summary in a separate object to be able to look at the resumed\n",
    "training independently of the first training."
   ]
  },
  {
   "cell_type": "code",
   "execution_count": 8,
   "metadata": {},
   "outputs": [],
   "source": [
    "history2 = ckpt_model.fit(\n",
    "            x=iris.data,\n",
    "            y=iris.target,\n",
    "            batch_size=32,\n",
    "            epochs=45,\n",
    "            verbose=0,\n",
    "            callbacks=callbacks\n",
    "    )"
   ]
  },
  {
   "cell_type": "code",
   "execution_count": 24,
   "metadata": {},
   "outputs": [
    {
     "data": {
      "image/png": "[encoded data removed]",
      "text/plain": [
       "<Figure size 576x432 with 2 Axes>"
      ]
     },
     "metadata": {
      "needs_background": "light"
     },
     "output_type": "display_data"
    }
   ],
   "source": [
    "history_dict2 = history2.history\n",
    "history_dict2.keys()\n",
    "loss_values = history_dict2['loss']\n",
    "acc_values = history_dict2['sparse_categorical_accuracy']\n",
    "epochs = range(1, len(loss_values) + 1)\n",
    "\n",
    "fig, axes = plt.subplots(2, sharex=True)\n",
    "axes[0].set_ylabel(\"Loss\", fontsize=14)\n",
    "axes[0].plot(loss_values)\n",
    "axes[0].set_ylim(0.0,1.2)\n",
    "axes[1].set_ylabel(\"Accuracy\", fontsize=14)\n",
    "axes[1].set_xlabel(\"Iteration\", fontsize=14)\n",
    "axes[1].set_ylim(0.3,1.0)\n",
    "axes[1].plot(acc_values)\n",
    "plt.show()"
   ]
  },
  {
   "cell_type": "code",
   "execution_count": null,
   "metadata": {},
   "outputs": [],
   "source": []
  }
 ],
 "metadata": {
  "kernelspec": {
   "display_name": "Python 3",
   "language": "python",
   "name": "python3"
  },
  "language_info": {
   "codemirror_mode": {
    "name": "ipython",
    "version": 3
   },
   "file_extension": ".py",
   "mimetype": "text/x-python",
   "name": "python",
   "nbconvert_exporter": "python",
   "pygments_lexer": "ipython3",
   "version": "3.6.9"
  }
 },
 "nbformat": 4,
 "nbformat_minor": 4
}
