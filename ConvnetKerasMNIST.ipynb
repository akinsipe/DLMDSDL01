{
 "cells": [
  {
   "cell_type": "markdown",
   "metadata": {},
   "source": [
    "# Convolutional Network in Keras\n",
    "\n",
    "Convolutional neural networks (CNN) play an important part in modern machine learning applications as they allow to analyse a wide range of data such as images or text automatically. CNNs are used to detect features of the data automatically, for example if an image is analysed by a CNN, it can be trained to tell cats apart from dogs.\n",
    "\n",
    "A widely known practice dataset for image recognition is the MNIST dataset The data contain a large number of handwritten digits in the range 0...9 and the task focuses on recognizing the images. The task was pioneered by Yann LeCun and others in 1998 ([original paper](http://yann.lecun.com/exdb/publis/pdf/lecun-98.pdf) [Yann LeCun's Webpage for MNIST](http://yann.lecun.com/exdb/lenet/)). \n",
    "\n",
    "The images are snipplets of 28 pixels x 28 pixels = 784 pixels and there are n=10 digits to recognise."
   ]
  },
  {
   "cell_type": "code",
   "execution_count": 1,
   "metadata": {},
   "outputs": [
    {
     "name": "stdout",
     "output_type": "stream",
     "text": [
      "Populating the interactive namespace from numpy and matplotlib\n",
      "2.1.0\n"
     ]
    }
   ],
   "source": [
    "# imports\n",
    "import numpy as np\n",
    "import matplotlib.pyplot as plt\n",
    "import tensorflow as tf\n",
    "import datetime as dt\n",
    "from sklearn.metrics import confusion_matrix\n",
    "\n",
    "%pylab inline\n",
    "# large figures\n",
    "rcParams['figure.figsize'] = 8, 6\n",
    "\n",
    "print(tf.__version__)"
   ]
  },
  {
   "cell_type": "markdown",
   "metadata": {},
   "source": [
    "## Loading the data\n",
    "\n",
    "As this is a popular dataset to get to know CNNs, the data are available as part of TensorFlow:\n",
    "\n",
    "There are 6,000 images avaiable, each with a size of 28x28 pixels.\n",
    "The \"shape\" of the dataset is therefore $(28,28)$."
   ]
  },
  {
   "cell_type": "code",
   "execution_count": 2,
   "metadata": {},
   "outputs": [
    {
     "name": "stdout",
     "output_type": "stream",
     "text": [
      "(60000, 28, 28)\n"
     ]
    }
   ],
   "source": [
    "(x_train, y_train), (x_test, y_test) = tf.keras.datasets.mnist.load_data()\n",
    "print(x_train.shape)"
   ]
  },
  {
   "cell_type": "markdown",
   "metadata": {},
   "source": [
    "The images look like this:"
   ]
  },
  {
   "cell_type": "code",
   "execution_count": 3,
   "metadata": {},
   "outputs": [
    {
     "name": "stdout",
     "output_type": "stream",
     "text": [
      "True label: 3\n"
     ]
    },
    {
     "data": {
      "image/png": "[encoded data removed]",
      "text/plain": [
       "<Figure size 576x432 with 1 Axes>"
      ]
     },
     "metadata": {
      "needs_background": "light"
     },
     "output_type": "display_data"
    }
   ],
   "source": [
    "index = 1234\n",
    "print('True label: {}'.format(y_train[index]) )\n",
    "plt.imshow(x_train[index], cmap='Greys')\n",
    "plt.show()"
   ]
  },
  {
   "cell_type": "markdown",
   "metadata": {},
   "source": [
    "First we make the shape of the input tensor we will use in our model explicit:\n",
    " * length of the trainings and test tensor\n",
    " * 28x28 pixels\n",
    " * grayscale (1 colour)\n",
    "\n",
    "We also need to normalise the colour range by dividing by 255 (RGB range).\n",
    "In addition, we cast the values to floating point nubmers with 32 bit accuracy so they all have a well defined state."
   ]
  },
  {
   "cell_type": "code",
   "execution_count": 4,
   "metadata": {},
   "outputs": [
    {
     "name": "stdout",
     "output_type": "stream",
     "text": [
      "Final shape of input tensor (60000, 28, 28, 1)\n"
     ]
    }
   ],
   "source": [
    "x_train = x_train.reshape(x_train.shape[0], 28, 28, 1).astype('float32')\n",
    "x_test = x_test.reshape(x_test.shape[0], 28, 28, 1).astype('float32')\n",
    "\n",
    "\n",
    "x_train = x_train/255\n",
    "x_test = x_test/255\n",
    "\n",
    "print('Final shape of input tensor {}'.format(x_train.shape))\n"
   ]
  },
  {
   "cell_type": "markdown",
   "metadata": {},
   "source": [
    "## A Simple model\n",
    "\n",
    "We start with a very simple model that has only one convloutional layer.\n",
    "We then add one fully connected (or dense) layer with ReLU activation function \n",
    "and then use a fully connected layer with 10 nodes (one for each digit in $0,\\ldots,9$)\n",
    "with softmax activation. The latter converts the output of the nodes into a probability.\n",
    "\n",
    "We also add a dropout layer after the first fully connected layer to regularize the network.\n",
    "Using the Keras interface, the model is then:"
   ]
  },
  {
   "cell_type": "code",
   "execution_count": 5,
   "metadata": {},
   "outputs": [
    {
     "name": "stdout",
     "output_type": "stream",
     "text": [
      "Model: \"sequential\"\n",
      "_________________________________________________________________\n",
      "Layer (type)                 Output Shape              Param #   \n",
      "=================================================================\n",
      "conv2d (Conv2D)              (None, 26, 26, 32)        320       \n",
      "_________________________________________________________________\n",
      "max_pooling2d (MaxPooling2D) (None, 13, 13, 32)        0         \n",
      "_________________________________________________________________\n",
      "flatten (Flatten)            (None, 5408)              0         \n",
      "_________________________________________________________________\n",
      "dense (Dense)                (None, 128)               692352    \n",
      "_________________________________________________________________\n",
      "dropout (Dropout)            (None, 128)               0         \n",
      "_________________________________________________________________\n",
      "dense_1 (Dense)              (None, 10)                1290      \n",
      "=================================================================\n",
      "Total params: 693,962\n",
      "Trainable params: 693,962\n",
      "Non-trainable params: 0\n",
      "_________________________________________________________________\n"
     ]
    }
   ],
   "source": [
    "model = tf.keras.Sequential()\n",
    "model.add(tf.keras.layers.Conv2D(filters=32, \n",
    "                                 kernel_size=(3,3), \n",
    "                                 strides=(1,1),\n",
    "                                 padding='valid',\n",
    "                                 activation='relu', \n",
    "                                 input_shape=(28,28,1)))\n",
    "model.add(tf.keras.layers.MaxPooling2D(pool_size=(2, 2)))\n",
    "\n",
    "# flatten the 2D convolution layers before adding a fully connected (dense) layer\n",
    "model.add(tf.keras.layers.Flatten())\n",
    "model.add(tf.keras.layers.Dense(128,activation=tf.nn.relu))\n",
    "\n",
    "#add dropout for regularisation\n",
    "model.add(tf.keras.layers.Dropout(0.5))\n",
    "\n",
    "# final fully connected (dense) layer which returns a probability for each of the digits 0...9\n",
    "model.add(tf.keras.layers.Dense(10,activation=tf.nn.softmax))\n",
    "\n",
    "\n",
    "model.summary()"
   ]
  },
  {
   "cell_type": "markdown",
   "metadata": {},
   "source": [
    "Note that this simple model has already almost 700,000 free parameters (network weights) that need to be optimized.\n",
    "\n",
    "We now specify how we train the network.\n",
    "We need to specify the optimizer used during training. Several choices exist, as a good practice, the Adam Optimizer (See the [paper](https://arxiv.org/abs/1412.6980) and the [documentation](https://www.tensorflow.org/api_docs/python/tf/keras/optimizers/Adam) for more details) is a good starting point.\n",
    "\n",
    "We also use cross-entropy for the loss function as this is a classification problem.\n",
    "\n",
    "Furthermore, we add the accuracy as the metric we want to monitor during network training.\n"
   ]
  },
  {
   "cell_type": "code",
   "execution_count": 6,
   "metadata": {},
   "outputs": [],
   "source": [
    "model.compile(\n",
    "    optimizer = tf.keras.optimizers.Adam(learning_rate=0.01),\n",
    "    loss = tf.keras.losses.SparseCategoricalCrossentropy(from_logits=True),\n",
    "    metrics = [tf.keras.metrics.SparseCategoricalAccuracy()]\n",
    ")"
   ]
  },
  {
   "cell_type": "markdown",
   "metadata": {},
   "source": [
    "We then train the model by calling ```model.fit()``` using 5 epochs to complete the training quickly."
   ]
  },
  {
   "cell_type": "code",
   "execution_count": 7,
   "metadata": {},
   "outputs": [
    {
     "name": "stdout",
     "output_type": "stream",
     "text": [
      "Train on 60000 samples\n",
      "Epoch 1/5\n",
      "60000/60000 [==============================] - 31s 513us/sample - loss: 1.6547 - sparse_categorical_accuracy: 0.8061\n",
      "Epoch 2/5\n",
      "60000/60000 [==============================] - 30s 506us/sample - loss: 1.5884 - sparse_categorical_accuracy: 0.8725\n",
      "Epoch 3/5\n",
      "60000/60000 [==============================] - 29s 478us/sample - loss: 1.5851 - sparse_categorical_accuracy: 0.8759\n",
      "Epoch 4/5\n",
      "60000/60000 [==============================] - 28s 473us/sample - loss: 1.5836 - sparse_categorical_accuracy: 0.8774\n",
      "Epoch 5/5\n",
      "60000/60000 [==============================] - 32s 537us/sample - loss: 1.5895 - sparse_categorical_accuracy: 0.8716\n"
     ]
    },
    {
     "data": {
      "text/plain": [
       "<tensorflow.python.keras.callbacks.History at 0x7f8604afc5f8>"
      ]
     },
     "execution_count": 7,
     "metadata": {},
     "output_type": "execute_result"
    }
   ],
   "source": [
    "model.fit(x_train,y_train, epochs=5)"
   ]
  },
  {
   "cell_type": "markdown",
   "metadata": {},
   "source": [
    "Keras also provides a convenient function to evaluate the performance on the independent test data we have retained."
   ]
  },
  {
   "cell_type": "code",
   "execution_count": 8,
   "metadata": {},
   "outputs": [
    {
     "name": "stdout",
     "output_type": "stream",
     "text": [
      "10000/10000 [==============================] - 2s 210us/sample - loss: 1.5312 - sparse_categorical_accuracy: 0.9300\n"
     ]
    },
    {
     "data": {
      "text/plain": [
       "[1.5311651317596435, 0.93]"
      ]
     },
     "execution_count": 8,
     "metadata": {},
     "output_type": "execute_result"
    }
   ],
   "source": [
    "model.evaluate(x_test,y_test)"
   ]
  },
  {
   "cell_type": "markdown",
   "metadata": {},
   "source": [
    "The model performance is about 94% on an independent test sample - which is ok for a first go.\n",
    "More complex models achieve more than 99% accuracy, a summary can be found on Yann LeCuns [MNIST page](http://yann.lecun.com/exdb/mnist/index.html)\n",
    "\n",
    "We can also make some predictions and look at the confustion matrix."
   ]
  },
  {
   "cell_type": "code",
   "execution_count": 9,
   "metadata": {},
   "outputs": [],
   "source": [
    "predictions = model.predict(x_test)\n",
    "y_hat = tf.argmax(predictions, axis=1)"
   ]
  },
  {
   "cell_type": "code",
   "execution_count": 10,
   "metadata": {},
   "outputs": [
    {
     "name": "stdout",
     "output_type": "stream",
     "text": [
      "[[ 972    2    1    0    0    0    2    2    1    0]\n",
      " [   0 1126    3    0    0    0    5    0    1    0]\n",
      " [  16   12  977    1    6    0    1   11    5    3]\n",
      " [  14    9   73  825    3   28    7   12   36    3]\n",
      " [   1    2    7    0  954    0    5    0    2   11]\n",
      " [   7    2    4    4    4  783   18    3   63    4]\n",
      " [  25    4    3    0    9    1  907    0    9    0]\n",
      " [   1    9   28    1    9    1    0  953    0   26]\n",
      " [  17   15   20    1   18    0    2   13  880    8]\n",
      " [  15   10    2    3   34    5    0    9    8  923]]\n"
     ]
    },
    {
     "data": {
      "image/png": "[encoded data removed]",
      "text/plain": [
       "<Figure size 432x432 with 2 Axes>"
      ]
     },
     "metadata": {
      "needs_background": "light"
     },
     "output_type": "display_data"
    }
   ],
   "source": [
    "# Compute confusion matrix\n",
    "cm = confusion_matrix(y_test,y_hat)\n",
    "\n",
    "print(cm)\n",
    "\n",
    "# Show confusion matrix \n",
    "plt.matshow(cm, cmap='seismic')\n",
    "plt.title('Confusion matrix')\n",
    "plt.colorbar()\n",
    "plt.ylabel('True label')\n",
    "plt.xlabel('Predicted label')\n",
    "plt.show()"
   ]
  },
  {
   "cell_type": "markdown",
   "metadata": {},
   "source": [
    "# A More Complex Model\n",
    "\n",
    "We now create a more complex model by adding two convolutional layers and increase the number of nodes \n",
    "in the intermediate fully connected layer."
   ]
  },
  {
   "cell_type": "code",
   "execution_count": 11,
   "metadata": {},
   "outputs": [
    {
     "name": "stdout",
     "output_type": "stream",
     "text": [
      "Model: \"sequential_1\"\n",
      "_________________________________________________________________\n",
      "Layer (type)                 Output Shape              Param #   \n",
      "=================================================================\n",
      "conv2d_1 (Conv2D)            (None, 28, 28, 32)        832       \n",
      "_________________________________________________________________\n",
      "max_pooling2d_1 (MaxPooling2 (None, 14, 14, 32)        0         \n",
      "_________________________________________________________________\n",
      "conv2d_2 (Conv2D)            (None, 14, 14, 64)        51264     \n",
      "_________________________________________________________________\n",
      "max_pooling2d_2 (MaxPooling2 (None, 7, 7, 64)          0         \n",
      "_________________________________________________________________\n",
      "flatten_1 (Flatten)          (None, 3136)              0         \n",
      "_________________________________________________________________\n",
      "dense_2 (Dense)              (None, 1024)              3212288   \n",
      "_________________________________________________________________\n",
      "dropout_1 (Dropout)          (None, 1024)              0         \n",
      "_________________________________________________________________\n",
      "dense_3 (Dense)              (None, 10)                10250     \n",
      "=================================================================\n",
      "Total params: 3,274,634\n",
      "Trainable params: 3,274,634\n",
      "Non-trainable params: 0\n",
      "_________________________________________________________________\n"
     ]
    }
   ],
   "source": [
    "model = tf.keras.Sequential()\n",
    "model.add((tf.keras.layers.Conv2D(filters=32, kernel_size=[5,5], padding='same', activation='relu',input_shape=(28,28,1 ))))\n",
    "model.add((tf.keras.layers.MaxPooling2D(pool_size=(2, 2), strides=2)))\n",
    "model.add((tf.keras.layers.Conv2D(filters=64, kernel_size=[5,5], padding='same', activation='relu' )))\n",
    "model.add((tf.keras.layers.MaxPooling2D(pool_size=(2, 2), strides=2)))\n",
    "model.add((tf.keras.layers.Flatten()))\n",
    "model.add((tf.keras.layers.Dense(1024, activation='relu')))\n",
    "model.add((tf.keras.layers.Dropout(0.5)))\n",
    "model.add((tf.keras.layers.Dense(10, activation='softmax')))\n",
    "model.summary()"
   ]
  },
  {
   "cell_type": "markdown",
   "metadata": {},
   "source": [
    "Note how this moderate increase in complexity increased the number of parameters from ca. 700,000 to more than 3 Million already."
   ]
  },
  {
   "cell_type": "code",
   "execution_count": 12,
   "metadata": {},
   "outputs": [],
   "source": [
    "model.compile(\n",
    "    optimizer = tf.keras.optimizers.Adam(learning_rate=0.01),\n",
    "    loss = tf.keras.losses.SparseCategoricalCrossentropy(from_logits=True),\n",
    "    metrics = [tf.keras.metrics.SparseCategoricalAccuracy()]\n",
    ")"
   ]
  },
  {
   "cell_type": "code",
   "execution_count": 13,
   "metadata": {},
   "outputs": [
    {
     "name": "stdout",
     "output_type": "stream",
     "text": [
      "Train on 60000 samples\n",
      "Epoch 1/10\n",
      "60000/60000 [==============================] - 141s 2ms/sample - loss: 2.3019 - sparse_categorical_accuracy: 0.1099\n",
      "Epoch 2/10\n",
      "60000/60000 [==============================] - 151s 3ms/sample - loss: 2.3013 - sparse_categorical_accuracy: 0.1124\n",
      "Epoch 3/10\n",
      "60000/60000 [==============================] - 147s 2ms/sample - loss: 2.3014 - sparse_categorical_accuracy: 0.1124\n",
      "Epoch 4/10\n",
      "60000/60000 [==============================] - 160s 3ms/sample - loss: 2.3013 - sparse_categorical_accuracy: 0.1124\n",
      "Epoch 5/10\n",
      "60000/60000 [==============================] - 145s 2ms/sample - loss: 2.3013 - sparse_categorical_accuracy: 0.1124\n",
      "Epoch 6/10\n",
      "60000/60000 [==============================] - 145s 2ms/sample - loss: 2.3014 - sparse_categorical_accuracy: 0.1124\n",
      "Epoch 7/10\n",
      "60000/60000 [==============================] - 166s 3ms/sample - loss: 2.3014 - sparse_categorical_accuracy: 0.1124\n",
      "Epoch 8/10\n",
      "60000/60000 [==============================] - 149s 2ms/sample - loss: 2.3014 - sparse_categorical_accuracy: 0.1124\n",
      "Epoch 9/10\n",
      "60000/60000 [==============================] - 149s 2ms/sample - loss: 2.3013 - sparse_categorical_accuracy: 0.1120\n",
      "Epoch 10/10\n",
      "60000/60000 [==============================] - 150s 2ms/sample - loss: 2.3013 - sparse_categorical_accuracy: 0.1124\n"
     ]
    }
   ],
   "source": [
    "history = model.fit(x_train, y_train, epochs=10, batch_size=32)"
   ]
  },
  {
   "cell_type": "code",
   "execution_count": 14,
   "metadata": {},
   "outputs": [
    {
     "name": "stdout",
     "output_type": "stream",
     "text": [
      "10000/10000 [==============================] - 6s 616us/sample - loss: 2.3011 - sparse_categorical_accuracy: 0.1135\n"
     ]
    },
    {
     "data": {
      "text/plain": [
       "[2.301110806274414, 0.1135]"
      ]
     },
     "execution_count": 14,
     "metadata": {},
     "output_type": "execute_result"
    }
   ],
   "source": [
    "model.evaluate(x_test,y_test)"
   ]
  },
  {
   "cell_type": "code",
   "execution_count": null,
   "metadata": {},
   "outputs": [],
   "source": [
    "history_dict = history.history\n",
    "history_dict.keys()\n",
    "loss_values = history_dict['loss']\n",
    "acc_values = history_dict['sparse_categorical_accuracy']\n",
    "epochs = range(1, len(loss_values) + 1)\n",
    "\n",
    "fig, axes = plt.subplots(2, sharex=True)\n",
    "axes[0].set_ylabel(\"Loss\", fontsize=14)\n",
    "axes[0].plot(loss_values)\n",
    "axes[1].set_ylabel(\"Accuracy\", fontsize=14)\n",
    "axes[1].set_xlabel(\"Iteration\", fontsize=14)\n",
    "axes[1].plot(acc_values)\n",
    "plt.show()"
   ]
  }
 ],
 "metadata": {
  "kernelspec": {
   "display_name": "Python 3",
   "language": "python",
   "name": "python3"
  },
  "language_info": {
   "codemirror_mode": {
    "name": "ipython",
    "version": 3
   },
   "file_extension": ".py",
   "mimetype": "text/x-python",
   "name": "python",
   "nbconvert_exporter": "python",
   "pygments_lexer": "ipython3",
   "version": "3.6.9"
  }
 },
 "nbformat": 4,
 "nbformat_minor": 4
}
