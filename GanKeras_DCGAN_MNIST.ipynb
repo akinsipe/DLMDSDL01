{
  "nbformat": 4,
  "nbformat_minor": 0,
  "metadata": {
    "colab": {
      "name": "GanKeras_DCGAN_MNIST.ipynb",
      "provenance": [],
      "collapsed_sections": []
    },
    "kernelspec": {
      "name": "python3",
      "display_name": "Python 3"
    },
    "accelerator": "GPU"
  },
  "cells": [
    {
      "cell_type": "markdown",
      "metadata": {
        "id": "Fu1vEZZXSDvY",
        "colab_type": "text"
      },
      "source": [
        "# Generative Adversarial Networks (GAN)\n",
        "\n",
        "Generative Adversarial Networks use two competing neural networks to create new output based on what it has learned from a training sample.\n",
        "\n",
        "In the simplest setting (shown here), we have two networks, a ''generator'' and a ''discriminitor''.  The generator starts from random noise and tries to construct a realistic output, in our case, an image. The discriminator acts as a kind of judge to determin whether the output of the generator is realistic in the sense that it cannot be distinguished from the dataset used for training.\n",
        "\n",
        "The modern approach of GANs was devloped by I. Goodfellow at al. in 2004 ([paper](https://arxiv.org/abs/1406.2661)), though it is argued that the underlying concepts have been developed by J. Schmidthuber starting in the early 1990s ([paper 1](https://arxiv.org/abs/1906.04493), [paper 2](http://people.idsia.ch/~juergen/FKI-126-90ocr.pdf), [paper 3](http://people.idsia.ch/~juergen/multipleways2009.pdf) and in particular [paper 4](https://ieeexplore.ieee.org/document/6795705)).\n",
        "\n",
        "Since its original inception, many varieties of GANs have been developed, we will use DCGAN (deep convolutional GAN) by Radford et al ([paper](https://arxiv.org/abs/1511.06434)) here, using the model implementation from the [TensorFlow example](https://www.tensorflow.org/tutorials/generative/dcgan) by Google.\n",
        "\n",
        "As the dataset, we will use the [MNIST](http://yann.lecun.com/exdb/mnist/) database by Y. LeCun which contains 60.000 images of hand-written digits.\n",
        "\n",
        "In this setting, the output resembles such digits after about 50 training epochs. Trainining a single epoch even with this relatively simple setting can take up to some minutes depending on the underlying hardware.\n"
      ]
    },
    {
      "cell_type": "code",
      "metadata": {
        "id": "vVCPYlBhbaSP",
        "colab_type": "code",
        "colab": {
          "base_uri": "https://localhost:8080/",
          "height": 34
        },
        "outputId": "f428c223-f013-470f-a506-f36ccc77baa2"
      },
      "source": [
        "##\n",
        "## Import the libraries we need\n",
        "##\n",
        "\n",
        "# TensorFlow\n",
        "import tensorflow as tf\n",
        "\n",
        "# import import the layers from Keras in tensorflow to avoid typing\n",
        "# a lot later when building the model\n",
        "from tensorflow.keras import layers\n",
        "\n",
        "\n",
        "# Helper libraries\n",
        "import numpy as np\n",
        "import matplotlib.pyplot as plt\n",
        "from IPython import display\n",
        "import time\n",
        "\n",
        "\n",
        "print(tf.__version__)\n"
      ],
      "execution_count": 1,
      "outputs": [
        {
          "output_type": "stream",
          "text": [
            "2.3.0\n"
          ],
          "name": "stdout"
        }
      ]
    },
    {
      "cell_type": "markdown",
      "metadata": {
        "id": "2Icd_MRkXHp2",
        "colab_type": "text"
      },
      "source": [
        "We now define some general settings.\n",
        " * The dataset contains 60.000 images, we will train the network using batches of 256 at a time\n",
        " * The generator starts off from random noise. In our case, we take 100 numbers taken from a standard Normal distribution and generate an image from these."
      ]
    },
    {
      "cell_type": "code",
      "metadata": {
        "id": "JiVlIxKbhKLN",
        "colab_type": "code",
        "colab": {}
      },
      "source": [
        "# general settings\n",
        "batch_size = 256\n",
        "noise_dim  = 100\n",
        "\n"
      ],
      "execution_count": 2,
      "outputs": []
    },
    {
      "cell_type": "markdown",
      "metadata": {
        "id": "CyPD8RGmXrgA",
        "colab_type": "text"
      },
      "source": [
        "## Load and Prepare Data\n",
        "\n",
        "We now load the MNIST dataset. Since this is a very popular dataset, it is contained in many machine learning frameworks and can be accessed easily.\n",
        "The dataset contains 60.000 images where each image is a gray scale image and has 28x28 pixels in x and y direction.\n",
        "Each image is therefore characterized by the dimensions (28,28,1).\n",
        "\n",
        "We first load the data and then show an example.\n",
        "\n",
        "Once you have looked at this dataset, maybe try the [Fashion MNIST](https://github.com/zalandoresearch/fashion-mnist) dataset developed by Zalando. This is intended as a ''drop-in replacement'' of the MNIST dataset and has the same dimensions and number of images - but it shows the outline of clothes instead."
      ]
    },
    {
      "cell_type": "code",
      "metadata": {
        "id": "2-0odGANf6-T",
        "colab_type": "code",
        "colab": {
          "base_uri": "https://localhost:8080/",
          "height": 366
        },
        "outputId": "f5a57d38-4774-4d07-e966-8cbfdcbd766d"
      },
      "source": [
        "# MNIST data\n",
        "(x_train, y_train), (x_test, y_test) = tf.keras.datasets.mnist.load_data()\n",
        "\n",
        "n_images = x_train.shape[0]\n",
        "print('Number of images:  ', n_images)\n",
        "print('x and y dimension: ', x_train.shape[1],x_train.shape[2])\n",
        "\n",
        "plt.clf()\n",
        "plt.imshow(x_train[0],cmap='gray',interpolation='none')\n",
        "plt.title(\"Label: {}\".format(y_train[0]))"
      ],
      "execution_count": 3,
      "outputs": [
        {
          "output_type": "stream",
          "text": [
            "Downloading data from https://storage.googleapis.com/tensorflow/tf-keras-datasets/mnist.npz\n",
            "11493376/11490434 [==============================] - 0s 0us/step\n",
            "Number of images:   60000\n",
            "x and y dimension:  28 28\n"
          ],
          "name": "stdout"
        },
        {
          "output_type": "execute_result",
          "data": {
            "text/plain": [
              "Text(0.5, 1.0, 'Label: 5')"
            ]
          },
          "metadata": {
            "tags": []
          },
          "execution_count": 3
        },
        {
          "output_type": "display_data",
          "data": {
            "image/png": "[encoded data removed]",
            "text/plain": [
              "<Figure size 432x288 with 1 Axes>"
            ]
          },
          "metadata": {
            "tags": [],
            "needs_background": "light"
          }
        }
      ]
    },
    {
      "cell_type": "markdown",
      "metadata": {
        "id": "CbC8bly4YitD",
        "colab_type": "text"
      },
      "source": [
        "Now we prepare the data from the dataset for the later training.\n",
        "\n",
        "First we reshape the arrays holding the image data, in particular, we add the number ``1`` indicating the number of color channels, in our case, one gray scale.\n",
        "\n",
        "Since the gray scale values range from 0...255, we first normalize the range to lie in the interval [-1,1]. When we want to draw an image later we have to remember to undo this step."
      ]
    },
    {
      "cell_type": "code",
      "metadata": {
        "id": "wJcCd3CB41XY",
        "colab_type": "code",
        "colab": {}
      },
      "source": [
        "x_train = x_train.reshape(n_images, 28, 28, 1).astype('float32')\n",
        "x_train = (x_train - 127.5) / 127.5 # Normalize the images to [-1, 1]\n",
        "\n",
        "# Batch and shuffle the data\n",
        "train_dataset = tf.data.Dataset.from_tensor_slices(x_train).shuffle(n_images).batch(batch_size)"
      ],
      "execution_count": 4,
      "outputs": []
    },
    {
      "cell_type": "markdown",
      "metadata": {
        "id": "COuB3xydCWih",
        "colab_type": "text"
      },
      "source": [
        "## Model definition\n",
        "\n",
        "We now define the two models we need:\n",
        " * The generator takes random noise as input and creates a 28x28 pixel gray scale image from this. Hence our input shape we pass to the generator is (100,) and the output shape is (28,28,1). The generator uses [Conv2DTRanspose](https://www.tensorflow.org/api_docs/python/tf/keras/layers/Conv2DTranspose) layers that are the ''inverse'' of normal convolutional layers to create the image from the noise used as input.\n",
        " * The discriminator judges whether the images created by the generator are realistic. Hence we feed an tensor of shape (28,28,1) as input and our output is a single number, indicating whether the image is realistic or not. Note that in this case the model uses convolutional layers with a stride of 2 instead of maxpooling."
      ]
    },
    {
      "cell_type": "code",
      "metadata": {
        "id": "BoDjGJADsqSp",
        "colab_type": "code",
        "colab": {}
      },
      "source": [
        "def make_generator_model():\n",
        "    model = tf.keras.Sequential()\n",
        "    model.add(layers.Dense(7*7*256, use_bias=False, input_shape=(noise_dim,)))\n",
        "    model.add(layers.BatchNormalization())\n",
        "    model.add(layers.LeakyReLU())\n",
        "\n",
        "    model.add(layers.Reshape((7, 7, 256)))\n",
        "    assert model.output_shape == (None, 7, 7, 256) # Note: None is the batch size\n",
        "\n",
        "    model.add(layers.Conv2DTranspose(128, (5, 5), strides=(1, 1), padding='same', use_bias=False))\n",
        "    assert model.output_shape == (None, 7, 7, 128)\n",
        "    model.add(layers.BatchNormalization())\n",
        "    model.add(layers.LeakyReLU())\n",
        "\n",
        "    model.add(layers.Conv2DTranspose(64, (5, 5), strides=(2, 2), padding='same', use_bias=False))\n",
        "    assert model.output_shape == (None, 14, 14, 64)\n",
        "    model.add(layers.BatchNormalization())\n",
        "    model.add(layers.LeakyReLU())\n",
        "\n",
        "    model.add(layers.Conv2DTranspose(1, (5, 5), strides=(2, 2), padding='same', use_bias=False, activation='tanh'))\n",
        "    assert model.output_shape == (None, 28, 28, 1)\n",
        "\n",
        "    return model\n",
        "\n",
        "def make_discriminator_model():\n",
        "    model = tf.keras.Sequential()\n",
        "    model.add(layers.Conv2D(64, (5, 5), strides=(2, 2), padding='same',\n",
        "                                     input_shape=[28, 28, 1]))\n",
        "    model.add(layers.LeakyReLU())\n",
        "    model.add(layers.Dropout(0.3))\n",
        "\n",
        "    model.add(layers.Conv2D(128, (5, 5), strides=(2, 2), padding='same'))\n",
        "    model.add(layers.LeakyReLU())\n",
        "    model.add(layers.Dropout(0.3))\n",
        "\n",
        "    model.add(layers.Flatten())\n",
        "    model.add(layers.Dense(1))\n",
        "\n",
        "    return model"
      ],
      "execution_count": 5,
      "outputs": []
    },
    {
      "cell_type": "markdown",
      "metadata": {
        "id": "VC8Ba-cVaZwQ",
        "colab_type": "text"
      },
      "source": [
        "We now create an instance of the generator model. Since this is a fully defined model, we can use it to generate an image. However, since the generator has not yet been trained, we expect just random noise."
      ]
    },
    {
      "cell_type": "code",
      "metadata": {
        "id": "d9F7MLdr1WB_",
        "colab_type": "code",
        "colab": {
          "base_uri": "https://localhost:8080/",
          "height": 265
        },
        "outputId": "0162b28b-ca43-4219-917c-adc44872c9fa"
      },
      "source": [
        "generator = make_generator_model()\n",
        "\n",
        "noise = tf.random.normal([1, noise_dim])\n",
        "generated_image = generator(noise, training=False)\n",
        "\n",
        "plt.imshow(generated_image[0, :, :, 0], cmap='gray')\n",
        "plt.show()"
      ],
      "execution_count": 6,
      "outputs": [
        {
          "output_type": "display_data",
          "data": {
            "image/png": "[encoded data removed]",
            "text/plain": [
              "<Figure size 432x288 with 1 Axes>"
            ]
          },
          "metadata": {
            "tags": [],
            "needs_background": "light"
          }
        }
      ]
    },
    {
      "cell_type": "markdown",
      "metadata": {
        "id": "SOUeEYbQamQ0",
        "colab_type": "text"
      },
      "source": [
        "Now we create an instance of the discriminator model. Like the generator instance, this is already a fully working model - so we can feed it the above image and as expected, it is not deemed as a realistic image."
      ]
    },
    {
      "cell_type": "code",
      "metadata": {
        "id": "WexWBHXn1YNl",
        "colab_type": "code",
        "colab": {
          "base_uri": "https://localhost:8080/",
          "height": 34
        },
        "outputId": "19f4dd52-71d1-4db6-872a-ded093f384e7"
      },
      "source": [
        "discriminator = make_discriminator_model()\n",
        "decision = discriminator(generated_image)\n",
        "print (decision.numpy())"
      ],
      "execution_count": 7,
      "outputs": [
        {
          "output_type": "stream",
          "text": [
            "[[-0.00117752]]\n"
          ],
          "name": "stdout"
        }
      ]
    },
    {
      "cell_type": "markdown",
      "metadata": {
        "id": "-yLtY1_9bAxv",
        "colab_type": "text"
      },
      "source": [
        "Next, we define the loss functions the models will use.\n",
        "The discriminator should learn that real images (```real_output```) are correct and have a target value of 1, the fake images should be rejected and have a target value of 0. Hence, intuitively, the generator aims to ''beat'' the discriminator by creating images the discriminator cannot tell apart from the real images, which is reflected in the loss function of the generator.\n",
        "\n",
        "We also define the optimizer with a small learning rate for both models."
      ]
    },
    {
      "cell_type": "code",
      "metadata": {
        "id": "3iNxFhk01aZs",
        "colab_type": "code",
        "colab": {}
      },
      "source": [
        "# This method returns a helper function to compute cross entropy loss\n",
        "cross_entropy = tf.keras.losses.BinaryCrossentropy(from_logits=True)\n",
        "\n",
        "def discriminator_loss(real_output, fake_output):\n",
        "    real_loss = cross_entropy(tf.ones_like(real_output), real_output)\n",
        "    fake_loss = cross_entropy(tf.zeros_like(fake_output), fake_output)\n",
        "    total_loss = real_loss + fake_loss\n",
        "    return total_loss\n",
        "\n",
        "def generator_loss(fake_output):\n",
        "    return cross_entropy(tf.ones_like(fake_output), fake_output)\n",
        "\n",
        "generator_optimizer = tf.keras.optimizers.Adam(1e-4)\n",
        "discriminator_optimizer = tf.keras.optimizers.Adam(1e-4)"
      ],
      "execution_count": 8,
      "outputs": []
    },
    {
      "cell_type": "markdown",
      "metadata": {
        "id": "DwD8vmrWbp5i",
        "colab_type": "text"
      },
      "source": [
        "## Define Training Loop\n",
        "\n",
        "We now define the relevant parts used to actually train the network.\n",
        "First, we define the main training loop \n",
        "```\n",
        "def train(dataset, epochs=50, rows=2, columns=2)\n",
        "```\n",
        "This loop runs for the number of epochs we will specify (50 by default) and takes the training dataset as further input.\n",
        "During training we will show a few examples arranged in rows and columns (2 as default) of what the generator can produce at this stage since each training epoch will take somewhere between a few seconds and some minutes. To make this easier to compare, we always start from the same noise, hence we generate this seed first. \n",
        "\n",
        "The actual training then happes in the function ```train_step```.\n",
        "Note that we use there the decorator [```tf.function```](https://www.tensorflow.org/api_docs/python/tf/function) to improve the performance.\n",
        "Inside each training step, we first generate the noise the generator starts from and then let the generator create some images according to the current batch size.\n",
        "The discriminator then computes the output of the real images from the training dataset as well as the corresponding output from the faked images and we compute the values of the loss - functions. Note that we use [```GradientTape```](https://www.tensorflow.org/api_docs/python/tf/GradientTape) to define the training loop ourselves - refer to the corresponding example in our repository if you're not yet familiar with them.\n",
        "\n",
        "We also define a small helper function to plot an array of images."
      ]
    },
    {
      "cell_type": "code",
      "metadata": {
        "id": "_Sp6GutG1ovU",
        "colab_type": "code",
        "colab": {}
      },
      "source": [
        "def train(dataset, epochs=50, rows=2, columns=2):\n",
        "\n",
        "  #always start from the same noise\n",
        "  seed = tf.random.normal([rows*columns, noise_dim])\n",
        "\n",
        "  for epoch in range(epochs):\n",
        "    start = time.time()\n",
        "\n",
        "    for image_batch in dataset:\n",
        "      train_step(image_batch)\n",
        "\n",
        "    display.clear_output(wait=True)\n",
        "    plot_images(rows, columns, seed, generator)\n",
        "\n",
        "\n",
        "    print ('Epoch number {} took {} sec to train '.format(epoch , time.time()-start))\n",
        "\n"
      ],
      "execution_count": 9,
      "outputs": []
    },
    {
      "cell_type": "code",
      "metadata": {
        "id": "DzHx3XqS1mif",
        "colab_type": "code",
        "colab": {}
      },
      "source": [
        "\n",
        "@tf.function\n",
        "def train_step(images):\n",
        "    noise = tf.random.normal([batch_size, noise_dim])\n",
        "\n",
        "    with tf.GradientTape() as gen_tape, tf.GradientTape() as disc_tape:\n",
        "      generated_images = generator(noise, training=True)\n",
        "\n",
        "      real_output = discriminator(images, training=True)\n",
        "      fake_output = discriminator(generated_images, training=True)\n",
        "\n",
        "      gen_loss = generator_loss(fake_output)\n",
        "      disc_loss = discriminator_loss(real_output, fake_output)\n",
        "\n",
        "    gradients_of_generator = gen_tape.gradient(gen_loss, generator.trainable_variables)\n",
        "    gradients_of_discriminator = disc_tape.gradient(disc_loss, discriminator.trainable_variables)\n",
        "\n",
        "    generator_optimizer.apply_gradients(zip(gradients_of_generator, generator.trainable_variables))\n",
        "    discriminator_optimizer.apply_gradients(zip(gradients_of_discriminator, discriminator.trainable_variables))"
      ],
      "execution_count": 10,
      "outputs": []
    },
    {
      "cell_type": "code",
      "metadata": {
        "id": "CvaUMb_r_pO_",
        "colab_type": "code",
        "colab": {}
      },
      "source": [
        "def plot_images(n_row, n_column, input, model):\n",
        "  gen_imgs = model(input, training=False)\n",
        "  fig = plt.figure(figsize=(n_row,n_column))\n",
        "\n",
        "  for i in range(n_row*n_column):\n",
        "    plt.subplot(n_row, n_column, i+1)\n",
        "    plt.imshow(gen_imgs[i, :, :, 0] * 127.5 + 127.5, cmap='gray')\n",
        "    plt.axis('off')\n",
        "  plt.show()"
      ],
      "execution_count": 11,
      "outputs": []
    },
    {
      "cell_type": "markdown",
      "metadata": {
        "id": "HYpolyZteZHS",
        "colab_type": "text"
      },
      "source": [
        "## Train the network\n",
        "\n",
        "We now train the network using the above functions and save the models afterwards.\n",
        "\n",
        "50 epochs should be sufficient so that the output resembles hand-written digits. They won't be perfect but it's clear enough to see that it works"
      ]
    },
    {
      "cell_type": "code",
      "metadata": {
        "id": "IG1geCPV1ugu",
        "colab_type": "code",
        "colab": {
          "base_uri": "https://localhost:8080/",
          "height": 347
        },
        "outputId": "cb06ecc5-5d53-4d34-9208-6c02bb7247f0"
      },
      "source": [
        "# few images during each training epoch\n",
        "train(train_dataset, epochs=50, rows=2, columns=2)\n",
        "\n",
        "print('Training completed - save models')\n",
        "generator.save('generator')\n",
        "discriminator.save('discriminator')\n",
        "!ls"
      ],
      "execution_count": 12,
      "outputs": [
        {
          "output_type": "display_data",
          "data": {
            "image/png": "[encoded data removed]",
            "text/plain": [
              "<Figure size 144x144 with 4 Axes>"
            ]
          },
          "metadata": {
            "tags": [],
            "needs_background": "light"
          }
        },
        {
          "output_type": "stream",
          "text": [
            "Epoch number 49 took 23.667637825012207 sec to train \n",
            "Training completed - save models\n",
            "WARNING:tensorflow:From /usr/local/lib/python3.6/dist-packages/tensorflow/python/training/tracking/tracking.py:111: Model.state_updates (from tensorflow.python.keras.engine.training) is deprecated and will be removed in a future version.\n",
            "Instructions for updating:\n",
            "This property should not be used in TensorFlow 2.0, as updates are applied automatically.\n",
            "WARNING:tensorflow:From /usr/local/lib/python3.6/dist-packages/tensorflow/python/training/tracking/tracking.py:111: Layer.updates (from tensorflow.python.keras.engine.base_layer) is deprecated and will be removed in a future version.\n",
            "Instructions for updating:\n",
            "This property should not be used in TensorFlow 2.0, as updates are applied automatically.\n",
            "INFO:tensorflow:Assets written to: generator/assets\n",
            "INFO:tensorflow:Assets written to: discriminator/assets\n",
            "discriminator  generator  sample_data\n"
          ],
          "name": "stdout"
        }
      ]
    },
    {
      "cell_type": "markdown",
      "metadata": {
        "id": "UDQkn7wVefml",
        "colab_type": "text"
      },
      "source": [
        "## Final output\n",
        "After the training is completed we generate a few examples"
      ]
    },
    {
      "cell_type": "code",
      "metadata": {
        "id": "MlFSyvkj_hmM",
        "colab_type": "code",
        "colab": {
          "base_uri": "https://localhost:8080/",
          "height": 303
        },
        "outputId": "e3efeb0f-55a8-41b2-efd7-9dd914866234"
      },
      "source": [
        "# larger number of image at the end\n",
        "\n",
        "n_row = 5\n",
        "n_column = 5\n",
        "input_noise = tf.random.normal([n_row*n_column, noise_dim])\n",
        "\n",
        "plot_images(n_row, n_column, input_noise, generator)\n"
      ],
      "execution_count": 13,
      "outputs": [
        {
          "output_type": "display_data",
          "data": {
            "image/png": "[encoded data removed]",
            "text/plain": [
              "<Figure size 360x360 with 25 Axes>"
            ]
          },
          "metadata": {
            "tags": [],
            "needs_background": "light"
          }
        }
      ]
    }
  ]
}