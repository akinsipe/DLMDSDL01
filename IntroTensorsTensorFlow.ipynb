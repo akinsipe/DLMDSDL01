{
 "cells": [
  {
   "cell_type": "markdown",
   "metadata": {},
   "source": [
    "# Introduction to Tensors and TensorFlow\n",
    "\n",
    "Before we start using TensorFlow for neural networks and deep learning, we investigate that TensorFlow is a powerful library for\n",
    "mathematical operations and optimization \"under the hood\".\n",
    "Using a few simple examples we understand more about the variables used in Tensorflow.\n",
    "\n",
    "## A brief reminder of scalars, vectors and tensors\n",
    "\n",
    "Numbers are at the core of mathematics. In some scenarios, a simple number is sufficient, e.g. \"How many pieces of cake are there?\" - and you might answer \"6 (pieces of cake)\".\n",
    "\n",
    "However, in many situations a simple number is not sufficient, e.g. \"How far is it to your home\". Just answering \"3\" is not sufficient, we now need a _unit_, e.g. km: \"My house is 3 km from here. These numbers are called denominate numbers or **scalars**. Other examples are temperature, energy, etc.\n",
    "\n",
    "In other situations more information is required than denominate numbers, e.g. answering the question \"How do I get to your house?\" In addition to a number, a direction is needed: \"Walk 3 km due north\". These numbers are **vectors**, other examples are velocity, momentum, ...\n",
    "Vectors are often represented by its components: $\\vec{v} = a * \\vec{i} + b * \\vec{j} + c *\\vec{k}$, where $\\vec{i}, \\vec{j}, \\vec{k}$ are the unit vectors (for example, in x,y,z direction in Eucledian space) and a,b,c are scalars denoting how far one has to go in each direction.\n",
    "\n",
    "### Vectors\n",
    "Vectors can be combined into new objects:\n",
    "* Sum: $\\vec{W} = \\vec{U} + \\vec{V}$\n",
    "The sum (or difference) of two vectors results in a new vector\n",
    "* Inner Product: $\\vec{U} + \\vec{V} = \\eta$\n",
    "The inner prduct results in a scalar, the inner product of a vector with itself is the square of its magnitude (length)\n",
    "* Cross Product: $\\vec{S} = \\vec{U} \\times \\vec{V}$\n",
    "Two vectors in 3-dimensional space can be combined into a new vector, where the resulting vector $\\vec{S}$ is perpendicular to the plane spanned by $\\vec{U}$ and $\\vec{V}$ and its direction is given by the right-hand-rule.\n",
    "* Multiplied by scalar: A vector can be multiplied by a scalar to change its magnitude.\n",
    "\n",
    "### Tensors\n",
    "If we start from a unit vector and want to change its properties, we have few options so far:\n",
    "* multiply with a scalar to change its magnitude\n",
    "* cross product with another (unit) vector to change its direction.\n",
    "However, this limits us to right angles - if we want to change both magnitude and direction of a vector, we need something else: **tensors** \n",
    "\n",
    "__Terminology__\n",
    "\n",
    "* Scalar: Tensor of rank 0 (magnitude only - 1 component)\n",
    "* Vector: Tensor of rank 1 (mangnitude and 1 direction - 3 components)\n",
    "* Dyad:   Tensor of rank 2 (magnigude and 2 directions - $3^2 = 9$ components)\n",
    "* Triad:  Tensor of rank 3 (magnitude and 3 directions - $3^3 = 27$ components)\n",
    "\n",
    "__Dyad Product__\n",
    "\n",
    "A dyad can be constructed from two vectors by taking the product of the components term-by-term of each individual components and then add. The dyad product of two vectors $\\vec{U}$ and $\\vec{V}$ is then simply $\\underline{UV} = \\vec{U} \\vec{V}$, which is neither a dot nor a cross product.\n",
    "If $\\vec{U}= u_1 \\vec{i} + u_2 \\vec{j} + u_3 \\vec{k}$ and $\\vec{V}= v_1 \\vec{i} + v_2 \\vec{j} + v_3 \\vec{k}$, the dyad product is given by $\\underline{UV} = u_1v_1 \\underline{ii} + u_1v_2 \\underline{ij} + u_1v_3\\underline{ik} + \\cdots$. Here, $\\vec{i}$, $\\vec{j}$, $\\vec{k}$ are unit vectors and $\\underline{ii}$, $\\underline{ij}$, etc are unit dyads.\n",
    "Setting $\\mu_{11} = u_1v_1$, $\\mu_{12} = u_1v_2$, the dyad product can be written as $\\underline{UV} =  \\mu_{11} \\underline{ii} +\\mu_{12} \\underline{ij} + \\mu_{13}\\underline{ik} + \\cdots$. The scalar components $\\mu_{ij}$ can be expressed as a matrix:\n",
    "$$\n",
    "\\begin{array}{ccc}\n",
    "\\mu_{11} & \\mu_{12} & \\mu_{12} \\\\\n",
    "\\mu_{21} & \\mu_{22} & \\mu_{22} \\\\\n",
    "\\mu_{31} & \\mu_{32} & \\mu_{32} \n",
    "\\end{array}\n",
    "$$\n",
    "Note that the dyad product is generally not cummutative, i.e. $\\underline{UV}\\ne\\underline{VU}$.\n",
    "\n",
    "__Calculating with Tensors__\n",
    "\n",
    "Calculating with dyads is similar to matrix operations, the rules are generally non communtative, i.e. the order matters.\n",
    "\n",
    "Multiplying with a scalar is defined as $a(\\underline{UV}) = (\\underline{UV})a$, i.e. pre- and postmultiplication give the same result\n",
    "\n",
    "The inner product of a dyad $\\underline{UV}$ with another vector $\\vec{S}$ is defined as $\\vec{S}\\cdot (\\underline{UV})$ when we pre-multiply and $(\\underline{UV}) \\cdot \\vec{S}$ when we post-multiply.\n",
    "The order makes a difference: When we pre-multiply: $\\vec{S} \\cdot \\underline{UV} = (\\vec{S} \\cdot \\vec{U})\\vec{V} = \\sigma \\vec{V}$, i.e. the result is a vector with magnitude $\\sigma = \\vec{S} \\cdot \\vec(U)$ and direction of $\\vec{V}$. For post-multiplication, $\\underline{UV}\\cdot\\vec{S} = \\vec{U}(\\vec{V}\\cdot \\vec{S}) = \\lambda \\vec{U}$, i.e. a vector with magnitude $\\lambda = \\vec{V}\\cdot\\vec{S}$ in direction of $\\vec{U}$."
   ]
  },
  {
   "cell_type": "code",
   "execution_count": 1,
   "metadata": {},
   "outputs": [
    {
     "name": "stdout",
     "output_type": "stream",
     "text": [
      "2.1.0\n"
     ]
    }
   ],
   "source": [
    "# import required libraries\n",
    "import numpy as np\n",
    "import tensorflow as tf\n",
    "print(tf.__version__)"
   ]
  },
  {
   "cell_type": "markdown",
   "metadata": {},
   "source": [
    "## Example: scalars\n",
    "\n",
    "Let's start with some simple examples. \n",
    "We define two scalar variables as constants, multiply them and print the result.\n",
    "\n",
    "In Python we would simply write:\n"
   ]
  },
  {
   "cell_type": "code",
   "execution_count": 2,
   "metadata": {},
   "outputs": [
    {
     "name": "stdout",
     "output_type": "stream",
     "text": [
      "30.0\n"
     ]
    }
   ],
   "source": [
    "a = 5.0\n",
    "b = 6.0\n",
    "c = a*b\n",
    "print(c)"
   ]
  },
  {
   "cell_type": "markdown",
   "metadata": {},
   "source": [
    "Now we use the TensorFlow equivalents:"
   ]
  },
  {
   "cell_type": "code",
   "execution_count": 3,
   "metadata": {},
   "outputs": [
    {
     "name": "stdout",
     "output_type": "stream",
     "text": [
      "tf.Tensor(30.0, shape=(), dtype=float32)\n"
     ]
    }
   ],
   "source": [
    "a = tf.constant(5.0)\n",
    "b = tf.constant(6.0)\n",
    "c = a * b\n",
    "print(c)"
   ]
  },
  {
   "cell_type": "markdown",
   "metadata": {},
   "source": [
    "We notice that instead the expected printout of ```30``` we obtain a ```tf.Tensor``` object.\n",
    "It's value is indeed ```30``` and the (inferred) type is a 32-bit floating point number. We also see the parameter ```shape``` which is essentially\n",
    "indicating the dimensionality of the tensor. As we use a scalar, this is empty.\n",
    "\n",
    "In some cases we're just interested in the value, not in the tensor.\n",
    "since numpy is more or less the de-facto standard for numerical handling in python, TensorFlow provides the `numpy` method to return the result in this format."
   ]
  },
  {
   "cell_type": "code",
   "execution_count": 4,
   "metadata": {},
   "outputs": [
    {
     "name": "stdout",
     "output_type": "stream",
     "text": [
      "30.0\n"
     ]
    }
   ],
   "source": [
    "print(c.numpy())"
   ]
  },
  {
   "cell_type": "markdown",
   "metadata": {},
   "source": [
    "## Example: Matrix operations\n",
    "\n",
    "\n",
    "As mentioned above, TensorFlow works well together witht the de-facto standard for numerical manipulation in python ```numpy```.\n",
    "For example, we can define a matrix in numpy and manipulate it using TensorFlow and the ```numpy``` object gets converted to a TensorFlow Tensor automatically.\n",
    "\n",
    "In this example we first define a matrix in numpy and then add 1 to each element using TensorFlow"
   ]
  },
  {
   "cell_type": "code",
   "execution_count": 5,
   "metadata": {},
   "outputs": [
    {
     "name": "stdout",
     "output_type": "stream",
     "text": [
      "[[1, 2], [3, 4]]\n"
     ]
    }
   ],
   "source": [
    "A = [[1, 2],\n",
    "     [3, 4]]\n",
    "print (A)"
   ]
  },
  {
   "cell_type": "markdown",
   "metadata": {},
   "source": [
    "As a simple example, we add ```1``` to this - TensorFlow implicitly constructs a matrix of appropriate size where all values are filled with ```1```."
   ]
  },
  {
   "cell_type": "code",
   "execution_count": 6,
   "metadata": {},
   "outputs": [
    {
     "name": "stdout",
     "output_type": "stream",
     "text": [
      "tf.Tensor(\n",
      "[[2 3]\n",
      " [4 5]], shape=(2, 2), dtype=int32)\n"
     ]
    }
   ],
   "source": [
    "B = tf.add(A,1)\n",
    "print(B)"
   ]
  },
  {
   "cell_type": "markdown",
   "metadata": {},
   "source": [
    "Now we notice that the ```shape``` parameter is used. Since this is a 2x2 matrix, the shape is specified as ```(2,2)``` accordingly.\n",
    "Note that we used integer numbers in this example and the type of the tensor constructed by Tensorflow is ```int32```.\n",
    "\n",
    "As the next example, lets add or multiply two matrices:\n"
   ]
  },
  {
   "cell_type": "code",
   "execution_count": 7,
   "metadata": {},
   "outputs": [],
   "source": [
    "A = [[1, 2],\n",
    "     [3, 4]]\n",
    "\n",
    "B = [[5, 6],\n",
    "     [7, 8]]\n",
    "\n"
   ]
  },
  {
   "cell_type": "code",
   "execution_count": 8,
   "metadata": {},
   "outputs": [
    {
     "name": "stdout",
     "output_type": "stream",
     "text": [
      "tf.Tensor(\n",
      "[[ 6  8]\n",
      " [10 12]], shape=(2, 2), dtype=int32)\n"
     ]
    }
   ],
   "source": [
    "print(tf.add(A,B))"
   ]
  },
  {
   "cell_type": "code",
   "execution_count": 9,
   "metadata": {},
   "outputs": [
    {
     "name": "stdout",
     "output_type": "stream",
     "text": [
      "tf.Tensor(\n",
      "[[19 22]\n",
      " [43 50]], shape=(2, 2), dtype=int32)\n"
     ]
    }
   ],
   "source": [
    "print(tf.matmul(A,B))"
   ]
  },
  {
   "cell_type": "markdown",
   "metadata": {},
   "source": [
    "## Example: Variables\n",
    "\n",
    "So far, we've encountered static components such as a constant or a matrix.\n",
    "In more realistic cases we need to manipulate variables, i.e. unknowns $x$ which can hold arbitrary values.\n",
    "More on variables in TensorFlow [here](https://www.tensorflow.org/guide/variable)\n",
    "\n",
    "TensorFlow provides ```tf.Variable``` to define variables, alternatively, \n",
    "```my_var = tf.Variable(<inital value>,name=\"my_var\")```\n",
    "\n",
    "As an example we initialize a real-valued variable $x$ called \"x\" with zeros.\n",
    "We use the helper function ```tf.zeros``` described [here](https://www.tensorflow.org/api_docs/python/tf/zeros)\n",
    "to initialize the variable. In our simple example, we use a one-dimensional variable. In more complex\n",
    "situations, we can specifiy a shape accordingly, as well as specifying the type explicitly."
   ]
  },
  {
   "cell_type": "code",
   "execution_count": 10,
   "metadata": {},
   "outputs": [
    {
     "name": "stdout",
     "output_type": "stream",
     "text": [
      "<tf.Variable 'x:0' shape=(1,) dtype=float32, numpy=array([0.], dtype=float32)>\n"
     ]
    }
   ],
   "source": [
    "x = tf.Variable(tf.zeros([1]), name='x')\n",
    "print(x)"
   ]
  },
  {
   "cell_type": "code",
   "execution_count": 11,
   "metadata": {},
   "outputs": [
    {
     "name": "stdout",
     "output_type": "stream",
     "text": [
      "<tf.Variable 'y:0' shape=(2, 2) dtype=float32, numpy=\n",
      "array([[0., 0.],\n",
      "       [0., 0.]], dtype=float32)>\n"
     ]
    }
   ],
   "source": [
    "y = tf.Variable(tf.zeros([2,2], tf.float32), name='y')\n",
    "print(y)"
   ]
  },
  {
   "cell_type": "code",
   "execution_count": null,
   "metadata": {},
   "outputs": [],
   "source": []
  }
 ],
 "metadata": {
  "kernelspec": {
   "display_name": "Python 3",
   "language": "python",
   "name": "python3"
  },
  "language_info": {
   "codemirror_mode": {
    "name": "ipython",
    "version": 3
   },
   "file_extension": ".py",
   "mimetype": "text/x-python",
   "name": "python",
   "nbconvert_exporter": "python",
   "pygments_lexer": "ipython3",
   "version": "3.6.9"
  }
 },
 "nbformat": 4,
 "nbformat_minor": 4
}
